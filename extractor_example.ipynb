{
 "cells": [
  {
   "cell_type": "code",
   "execution_count": 20,
   "metadata": {},
   "outputs": [],
   "source": [
    "import os\n",
    "import pandas as pd\n",
    "\n",
    "files= os.listdir(\"./wallart\")\n",
    "\n",
    "img_name= []\n",
    "colors= []\n",
    "\n",
    "for i in files:\n",
    "    order= \"./color-extractor color_names.npz ./wallart/\"+i\n",
    "    result= !{order}\n",
    "\n",
    "    img_name.append(i)\n",
    "    colors.append(result)\n",
    "\n",
    "wallart = pd.DataFrame({\"img_name\":img_name, \"colors\": colors})"
   ]
  },
  {
   "cell_type": "code",
   "execution_count": 21,
   "metadata": {},
   "outputs": [
    {
     "data": {
      "text/html": [
       "<div>\n",
       "<style scoped>\n",
       "    .dataframe tbody tr th:only-of-type {\n",
       "        vertical-align: middle;\n",
       "    }\n",
       "\n",
       "    .dataframe tbody tr th {\n",
       "        vertical-align: top;\n",
       "    }\n",
       "\n",
       "    .dataframe thead th {\n",
       "        text-align: right;\n",
       "    }\n",
       "</style>\n",
       "<table border=\"1\" class=\"dataframe\">\n",
       "  <thead>\n",
       "    <tr style=\"text-align: right;\">\n",
       "      <th></th>\n",
       "      <th>img_name</th>\n",
       "      <th>colors</th>\n",
       "    </tr>\n",
       "  </thead>\n",
       "  <tbody>\n",
       "    <tr>\n",
       "      <td>0</td>\n",
       "      <td>.DS_Store</td>\n",
       "      <td>[Unable to find colors for ./wallart/.DS_Store...</td>\n",
       "    </tr>\n",
       "    <tr>\n",
       "      <td>1</td>\n",
       "      <td>wallart_black.jpg</td>\n",
       "      <td>[gray,black]</td>\n",
       "    </tr>\n",
       "    <tr>\n",
       "      <td>2</td>\n",
       "      <td>wallart_yellow.jpg</td>\n",
       "      <td>[yellow]</td>\n",
       "    </tr>\n",
       "    <tr>\n",
       "      <td>3</td>\n",
       "      <td>wallart_green.jpg</td>\n",
       "      <td>[green]</td>\n",
       "    </tr>\n",
       "    <tr>\n",
       "      <td>4</td>\n",
       "      <td>wallart_blue.jpg</td>\n",
       "      <td>[blue]</td>\n",
       "    </tr>\n",
       "  </tbody>\n",
       "</table>\n",
       "</div>"
      ],
      "text/plain": [
       "             img_name                                             colors\n",
       "0           .DS_Store  [Unable to find colors for ./wallart/.DS_Store...\n",
       "1   wallart_black.jpg                                       [gray,black]\n",
       "2  wallart_yellow.jpg                                           [yellow]\n",
       "3   wallart_green.jpg                                            [green]\n",
       "4    wallart_blue.jpg                                             [blue]"
      ]
     },
     "execution_count": 21,
     "metadata": {},
     "output_type": "execute_result"
    }
   ],
   "source": [
    "wallart"
   ]
  },
  {
   "cell_type": "code",
   "execution_count": 22,
   "metadata": {},
   "outputs": [],
   "source": [
    "files= os.listdir(\"./clock\")\n",
    "\n",
    "img_name= []\n",
    "colors= []\n",
    "\n",
    "for i in files:\n",
    "    order= \"./color-extractor color_names.npz ./clock/\"+i\n",
    "    result= !{order}\n",
    "\n",
    "    img_name.append(i)\n",
    "    colors.append(result)\n",
    "\n",
    "clock = pd.DataFrame({\"img_name\":img_name, \"colors\": colors})"
   ]
  },
  {
   "cell_type": "code",
   "execution_count": 23,
   "metadata": {},
   "outputs": [
    {
     "data": {
      "text/html": [
       "<div>\n",
       "<style scoped>\n",
       "    .dataframe tbody tr th:only-of-type {\n",
       "        vertical-align: middle;\n",
       "    }\n",
       "\n",
       "    .dataframe tbody tr th {\n",
       "        vertical-align: top;\n",
       "    }\n",
       "\n",
       "    .dataframe thead th {\n",
       "        text-align: right;\n",
       "    }\n",
       "</style>\n",
       "<table border=\"1\" class=\"dataframe\">\n",
       "  <thead>\n",
       "    <tr style=\"text-align: right;\">\n",
       "      <th></th>\n",
       "      <th>img_name</th>\n",
       "      <th>colors</th>\n",
       "    </tr>\n",
       "  </thead>\n",
       "  <tbody>\n",
       "    <tr>\n",
       "      <td>0</td>\n",
       "      <td>clock_white.jpg</td>\n",
       "      <td>[gray]</td>\n",
       "    </tr>\n",
       "    <tr>\n",
       "      <td>1</td>\n",
       "      <td>clock_pink.jpg</td>\n",
       "      <td>[pink]</td>\n",
       "    </tr>\n",
       "    <tr>\n",
       "      <td>2</td>\n",
       "      <td>clock_black.jpg</td>\n",
       "      <td>[yellow]</td>\n",
       "    </tr>\n",
       "  </tbody>\n",
       "</table>\n",
       "</div>"
      ],
      "text/plain": [
       "          img_name    colors\n",
       "0  clock_white.jpg    [gray]\n",
       "1   clock_pink.jpg    [pink]\n",
       "2  clock_black.jpg  [yellow]"
      ]
     },
     "execution_count": 23,
     "metadata": {},
     "output_type": "execute_result"
    }
   ],
   "source": [
    "clock"
   ]
  },
  {
   "cell_type": "code",
   "execution_count": 24,
   "metadata": {},
   "outputs": [],
   "source": [
    "files= os.listdir(\"./clothing\")\n",
    "\n",
    "img_name= []\n",
    "colors= []\n",
    "\n",
    "for i in files:\n",
    "    order= \"./color-extractor color_names.npz ./clothing/\"+i\n",
    "    result= !{order}\n",
    "\n",
    "    img_name.append(i)\n",
    "    colors.append(result)\n",
    "\n",
    "clothing = pd.DataFrame({\"img_name\":img_name, \"colors\": colors})"
   ]
  },
  {
   "cell_type": "code",
   "execution_count": 25,
   "metadata": {},
   "outputs": [
    {
     "data": {
      "text/html": [
       "<div>\n",
       "<style scoped>\n",
       "    .dataframe tbody tr th:only-of-type {\n",
       "        vertical-align: middle;\n",
       "    }\n",
       "\n",
       "    .dataframe tbody tr th {\n",
       "        vertical-align: top;\n",
       "    }\n",
       "\n",
       "    .dataframe thead th {\n",
       "        text-align: right;\n",
       "    }\n",
       "</style>\n",
       "<table border=\"1\" class=\"dataframe\">\n",
       "  <thead>\n",
       "    <tr style=\"text-align: right;\">\n",
       "      <th></th>\n",
       "      <th>img_name</th>\n",
       "      <th>colors</th>\n",
       "    </tr>\n",
       "  </thead>\n",
       "  <tbody>\n",
       "    <tr>\n",
       "      <td>0</td>\n",
       "      <td>clothing_black:white.jpg</td>\n",
       "      <td>[black]</td>\n",
       "    </tr>\n",
       "    <tr>\n",
       "      <td>1</td>\n",
       "      <td>clothing_red.jpg</td>\n",
       "      <td>[white]</td>\n",
       "    </tr>\n",
       "    <tr>\n",
       "      <td>2</td>\n",
       "      <td>clothing_blue.jpg</td>\n",
       "      <td>[blue]</td>\n",
       "    </tr>\n",
       "  </tbody>\n",
       "</table>\n",
       "</div>"
      ],
      "text/plain": [
       "                   img_name   colors\n",
       "0  clothing_black:white.jpg  [black]\n",
       "1          clothing_red.jpg  [white]\n",
       "2         clothing_blue.jpg   [blue]"
      ]
     },
     "execution_count": 25,
     "metadata": {},
     "output_type": "execute_result"
    }
   ],
   "source": [
    "clothing"
   ]
  },
  {
   "cell_type": "code",
   "execution_count": null,
   "metadata": {},
   "outputs": [],
   "source": []
  }
 ],
 "metadata": {
  "kernelspec": {
   "display_name": "Python 3",
   "language": "python",
   "name": "python3"
  },
  "language_info": {
   "codemirror_mode": {
    "name": "ipython",
    "version": 3
   },
   "file_extension": ".py",
   "mimetype": "text/x-python",
   "name": "python",
   "nbconvert_exporter": "python",
   "pygments_lexer": "ipython3",
   "version": "3.7.3"
  }
 },
 "nbformat": 4,
 "nbformat_minor": 4
}
